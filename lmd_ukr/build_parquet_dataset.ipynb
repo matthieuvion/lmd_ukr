{
 "cells": [
  {
   "cell_type": "markdown",
   "id": "528368cb-832c-49ab-a7e7-f15eb149bee9",
   "metadata": {
    "tags": []
   },
   "source": [
    "# Prepare / build Parquet Dataset"
   ]
  },
  {
   "cell_type": "markdown",
   "id": "3a75856c-45dc-40a8-9a35-f98aaecb85c0",
   "metadata": {},
   "source": [
    "- step 1 was : data collection -> populate a sqlite db (basic deduplicate while populating data)\n",
    "- -> **step 2** : cleaning / formating, trunk premium articles using Polars -> join articles & comments (tidy format) into parquet dataset"
   ]
  },
  {
   "cell_type": "code",
   "execution_count": 1,
   "id": "5527488f-41b2-4b2c-8141-2b710b08b502",
   "metadata": {
    "tags": []
   },
   "outputs": [],
   "source": [
    "from pathlib import Path\n",
    "import sqlite3\n",
    "import json\n",
    "import polars as pl\n",
    "import pandas as pd\n",
    "\n",
    "from datetime import datetime\n",
    "import ast"
   ]
  },
  {
   "cell_type": "code",
   "execution_count": 2,
   "id": "7d53355e-a633-4b7a-ac82-7a8c466df8c7",
   "metadata": {
    "tags": []
   },
   "outputs": [
    {
     "data": {
      "text/plain": [
       "polars.config.Config"
      ]
     },
     "execution_count": 2,
     "metadata": {},
     "output_type": "execute_result"
    }
   ],
   "source": [
    "pl.Config.set_tbl_rows(8)"
   ]
  },
  {
   "cell_type": "markdown",
   "id": "5ff01966-50e6-4804-95cd-dcf4ffee6e30",
   "metadata": {},
   "source": [
    "### Load data (sqlite db)"
   ]
  },
  {
   "cell_type": "code",
   "execution_count": 3,
   "id": "fd2ec20e-158d-4eba-a042-06f77c7e586c",
   "metadata": {},
   "outputs": [],
   "source": [
    "# using Polars\n",
    "db_path = \"ukr.db\"\n",
    "connection_uri = \"sqlite://\" + db_path\n",
    "query_articles = \"SELECT * FROM articles\"\n",
    "query_comments = \"SELECT * FROM comments\""
   ]
  },
  {
   "cell_type": "code",
   "execution_count": 4,
   "id": "f02dca32-1b88-4a2e-8693-51083fcaaa23",
   "metadata": {
    "tags": []
   },
   "outputs": [],
   "source": [
    "df_articles = pl.read_database(query_articles, connection_uri, engine=\"connectorx\")"
   ]
  },
  {
   "cell_type": "code",
   "execution_count": 5,
   "id": "acfa9e2e-4a32-48fa-a2ce-a0a489a76158",
   "metadata": {
    "tags": []
   },
   "outputs": [
    {
     "data": {
      "text/plain": [
       "(2825, 10)"
      ]
     },
     "execution_count": 5,
     "metadata": {},
     "output_type": "execute_result"
    }
   ],
   "source": [
    "df_articles.shape"
   ]
  },
  {
   "cell_type": "code",
   "execution_count": 6,
   "id": "a7892dfb-406e-401e-9342-f788baf69124",
   "metadata": {
    "tags": []
   },
   "outputs": [],
   "source": [
    "#%%timeit\n",
    "df_comments = pl.read_database(query_comments, connection_uri, engine=\"connectorx\")"
   ]
  },
  {
   "cell_type": "code",
   "execution_count": 7,
   "id": "b817a56d-77b7-42b9-a08d-f08052df94e6",
   "metadata": {
    "tags": []
   },
   "outputs": [
    {
     "data": {
      "text/plain": [
       "(244899, 3)"
      ]
     },
     "execution_count": 7,
     "metadata": {},
     "output_type": "execute_result"
    }
   ],
   "source": [
    "df_comments.shape"
   ]
  },
  {
   "cell_type": "markdown",
   "id": "14075405-77a2-4ecf-b647-cd9ddf1c2ce7",
   "metadata": {
    "tags": []
   },
   "source": [
    "Curious about speed, using pandas, to load the biggest table \"comments\" (300k rows)"
   ]
  },
  {
   "cell_type": "code",
   "execution_count": 8,
   "id": "35589cd5-6191-4d9b-9e7d-84da858ba86f",
   "metadata": {
    "tags": []
   },
   "outputs": [],
   "source": [
    "#%%timeit\n",
    "with sqlite3.connect('ukr.db') as conn:\n",
    "    pd_df_comments = pd.read_sql_query(\"SELECT * FROM comments\", conn)"
   ]
  },
  {
   "cell_type": "code",
   "execution_count": 9,
   "id": "7a25b432-f78f-4bac-89bb-e5a9ab6e6f89",
   "metadata": {
    "tags": []
   },
   "outputs": [
    {
     "data": {
      "text/html": [
       "<div>\n",
       "<style scoped>\n",
       "    .dataframe tbody tr th:only-of-type {\n",
       "        vertical-align: middle;\n",
       "    }\n",
       "\n",
       "    .dataframe tbody tr th {\n",
       "        vertical-align: top;\n",
       "    }\n",
       "\n",
       "    .dataframe thead th {\n",
       "        text-align: right;\n",
       "    }\n",
       "</style>\n",
       "<table border=\"1\" class=\"dataframe\">\n",
       "  <thead>\n",
       "    <tr style=\"text-align: right;\">\n",
       "      <th></th>\n",
       "      <th>article_id</th>\n",
       "      <th>author</th>\n",
       "      <th>comment</th>\n",
       "    </tr>\n",
       "  </thead>\n",
       "  <tbody>\n",
       "    <tr>\n",
       "      <th>0</th>\n",
       "      <td>3269346</td>\n",
       "      <td>Touch</td>\n",
       "      <td>Que va- t- on leur expliquer lorsque Mme Lepen...</td>\n",
       "    </tr>\n",
       "    <tr>\n",
       "      <th>1</th>\n",
       "      <td>3269346</td>\n",
       "      <td>Imprécateur.</td>\n",
       "      <td>Bien pour le fond. Mais pour la forme, à t'on...</td>\n",
       "    </tr>\n",
       "  </tbody>\n",
       "</table>\n",
       "</div>"
      ],
      "text/plain": [
       "   article_id        author                                            comment\n",
       "0     3269346        Touch   Que va- t- on leur expliquer lorsque Mme Lepen...\n",
       "1     3269346  Imprécateur.  Bien pour le fond. Mais pour la forme, à t'on..."
      ]
     },
     "execution_count": 9,
     "metadata": {},
     "output_type": "execute_result"
    }
   ],
   "source": [
    "pd_df_comments.head(2)"
   ]
  },
  {
   "cell_type": "code",
   "execution_count": 10,
   "id": "bc2ef621-70ac-47a2-a360-07c11519962a",
   "metadata": {
    "tags": []
   },
   "outputs": [
    {
     "data": {
      "text/html": [
       "<div>\n",
       "<style scoped>\n",
       "    .dataframe tbody tr th:only-of-type {\n",
       "        vertical-align: middle;\n",
       "    }\n",
       "\n",
       "    .dataframe tbody tr th {\n",
       "        vertical-align: top;\n",
       "    }\n",
       "\n",
       "    .dataframe thead th {\n",
       "        text-align: right;\n",
       "    }\n",
       "</style>\n",
       "<table border=\"1\" class=\"dataframe\">\n",
       "  <thead>\n",
       "    <tr style=\"text-align: right;\">\n",
       "      <th></th>\n",
       "      <th>article_id</th>\n",
       "      <th>url</th>\n",
       "      <th>title</th>\n",
       "      <th>desc</th>\n",
       "      <th>content</th>\n",
       "      <th>date</th>\n",
       "      <th>keywords</th>\n",
       "      <th>article_type</th>\n",
       "      <th>allow_comments</th>\n",
       "      <th>premium</th>\n",
       "    </tr>\n",
       "  </thead>\n",
       "  <tbody>\n",
       "    <tr>\n",
       "      <th>0</th>\n",
       "      <td>47863</td>\n",
       "      <td>https://www.lemonde.fr/europe/article/2015/07/...</td>\n",
       "      <td>La Russie entend bloquer la création d’un tri...</td>\n",
       "      <td>Vol MH17 : un an après sa destruction, cinq p...</td>\n",
       "      <td>L’Australie, la Belgique, la Malaisie, les Pay...</td>\n",
       "      <td>2015-07-14 07:57:27.000000</td>\n",
       "      <td>['international', 'economie', 'europe', 'ukrai...</td>\n",
       "      <td>Factuel</td>\n",
       "      <td>1</td>\n",
       "      <td>1</td>\n",
       "    </tr>\n",
       "    <tr>\n",
       "      <th>1</th>\n",
       "      <td>142250</td>\n",
       "      <td>https://www.lemonde.fr/europe/article/2016/09/...</td>\n",
       "      <td>L’enquête affirme que le missile provenait de...</td>\n",
       "      <td>Vol MH17 : la Russie clairement désignée</td>\n",
       "      <td>Le missile Buk, qui a abattu le Boeing 777 de ...</td>\n",
       "      <td>2016-09-29 04:39:20.000000</td>\n",
       "      <td>['international', 'europe', 'ukraine', 'pays-b...</td>\n",
       "      <td>Factuel</td>\n",
       "      <td>1</td>\n",
       "      <td>1</td>\n",
       "    </tr>\n",
       "  </tbody>\n",
       "</table>\n",
       "</div>"
      ],
      "text/plain": [
       "   article_id                                                url   \n",
       "0       47863  https://www.lemonde.fr/europe/article/2015/07/...  \\\n",
       "1      142250  https://www.lemonde.fr/europe/article/2016/09/...   \n",
       "\n",
       "                                               title   \n",
       "0  La Russie entend bloquer la création d’un tri...  \\\n",
       "1  L’enquête affirme que le missile provenait de...   \n",
       "\n",
       "                                                desc   \n",
       "0  Vol MH17 : un an après sa destruction, cinq p...  \\\n",
       "1         Vol MH17 : la Russie clairement désignée   \n",
       "\n",
       "                                             content   \n",
       "0  L’Australie, la Belgique, la Malaisie, les Pay...  \\\n",
       "1  Le missile Buk, qui a abattu le Boeing 777 de ...   \n",
       "\n",
       "                         date   \n",
       "0  2015-07-14 07:57:27.000000  \\\n",
       "1  2016-09-29 04:39:20.000000   \n",
       "\n",
       "                                            keywords article_type   \n",
       "0  ['international', 'economie', 'europe', 'ukrai...      Factuel  \\\n",
       "1  ['international', 'europe', 'ukraine', 'pays-b...      Factuel   \n",
       "\n",
       "  allow_comments premium  \n",
       "0              1       1  \n",
       "1              1       1  "
      ]
     },
     "execution_count": 10,
     "metadata": {},
     "output_type": "execute_result"
    }
   ],
   "source": [
    "with sqlite3.connect('ukr.db') as conn:\n",
    "    pd_df_articles = pd.read_sql_query(\"SELECT * FROM articles\", conn)\n",
    "pd_df_articles.head(2)"
   ]
  },
  {
   "cell_type": "markdown",
   "id": "f953a9c0-76ab-437b-a6d7-f53d2fa3a557",
   "metadata": {},
   "source": [
    "### Prepare data"
   ]
  },
  {
   "cell_type": "markdown",
   "id": "b9d5f9af-131c-4110-a1dd-6bd6c91b5d9f",
   "metadata": {},
   "source": [
    "**Notes** <br>\n",
    "> - Using Polars, because why not. Comments do no need to be prepared (only 3 cols, good format), Articles does\n",
    "> - Premium articles \"content\" will be cut to first 2500 characters, to --kind of, respect copyright (+- a non suscriber can see)\n",
    "> - Change cols types (1 -> True, str(list) -> list etc. ; we had no choice when ingesting into our sqlite db. Cool thing is that we removed duplicates alrdy\n",
    "> - While properly searching for ukraine conflict dates, we still collected older, non pertinent articles, remove these."
   ]
  },
  {
   "cell_type": "code",
   "execution_count": 11,
   "id": "d60fa847-1320-46f7-bee8-15c641e5d2ec",
   "metadata": {
    "tags": []
   },
   "outputs": [
    {
     "data": {
      "text/html": [
       "<div><style>\n",
       ".dataframe > thead > tr > th,\n",
       ".dataframe > tbody > tr > td {\n",
       "  text-align: right;\n",
       "}\n",
       "</style>\n",
       "<small>shape: (2, 3)</small><table border=\"1\" class=\"dataframe\"><thead><tr><th>article_id</th><th>author</th><th>comment</th></tr><tr><td>i64</td><td>str</td><td>str</td></tr></thead><tbody><tr><td>3269346</td><td>&quot;Touch &quot;</td><td>&quot;Que va- t- on …</td></tr><tr><td>3269346</td><td>&quot;Imprécateur.&quot;</td><td>&quot;Bien pour le f…</td></tr></tbody></table></div>"
      ],
      "text/plain": [
       "shape: (2, 3)\n",
       "┌────────────┬──────────────┬───────────────────────────────────┐\n",
       "│ article_id ┆ author       ┆ comment                           │\n",
       "│ ---        ┆ ---          ┆ ---                               │\n",
       "│ i64        ┆ str          ┆ str                               │\n",
       "╞════════════╪══════════════╪═══════════════════════════════════╡\n",
       "│ 3269346    ┆ Touch        ┆ Que va- t- on leur expliquer lor… │\n",
       "│ 3269346    ┆ Imprécateur. ┆ Bien pour le fond. Mais pour la … │\n",
       "└────────────┴──────────────┴───────────────────────────────────┘"
      ]
     },
     "execution_count": 11,
     "metadata": {},
     "output_type": "execute_result"
    }
   ],
   "source": [
    "df_comments.head(2)"
   ]
  },
  {
   "cell_type": "code",
   "execution_count": 12,
   "id": "4a374e35-df23-45e6-a80c-72f3baa33061",
   "metadata": {
    "tags": []
   },
   "outputs": [
    {
     "data": {
      "text/html": [
       "<div><style>\n",
       ".dataframe > thead > tr > th,\n",
       ".dataframe > tbody > tr > td {\n",
       "  text-align: right;\n",
       "}\n",
       "</style>\n",
       "<small>shape: (2, 3)</small><table border=\"1\" class=\"dataframe\"><thead><tr><th>article_id</th><th>author</th><th>comment</th></tr><tr><td>i64</td><td>str</td><td>str</td></tr></thead><tbody><tr><td>3269346</td><td>&quot;Touch &quot;</td><td>&quot;Que va- t- on …</td></tr><tr><td>3269346</td><td>&quot;Imprécateur.&quot;</td><td>&quot;Bien pour le f…</td></tr></tbody></table></div>"
      ],
      "text/plain": [
       "shape: (2, 3)\n",
       "┌────────────┬──────────────┬───────────────────────────────────┐\n",
       "│ article_id ┆ author       ┆ comment                           │\n",
       "│ ---        ┆ ---          ┆ ---                               │\n",
       "│ i64        ┆ str          ┆ str                               │\n",
       "╞════════════╪══════════════╪═══════════════════════════════════╡\n",
       "│ 3269346    ┆ Touch        ┆ Que va- t- on leur expliquer lor… │\n",
       "│ 3269346    ┆ Imprécateur. ┆ Bien pour le fond. Mais pour la … │\n",
       "└────────────┴──────────────┴───────────────────────────────────┘"
      ]
     },
     "execution_count": 12,
     "metadata": {},
     "output_type": "execute_result"
    }
   ],
   "source": [
    "df_comments.head(2)"
   ]
  },
  {
   "cell_type": "markdown",
   "id": "6fc77cc7-7f18-41a8-a4fa-bddf79380f10",
   "metadata": {},
   "source": [
    "#### Format columns"
   ]
  },
  {
   "cell_type": "code",
   "execution_count": 13,
   "id": "e21fe74a-1281-4bd4-b141-4b1faa5abf31",
   "metadata": {},
   "outputs": [],
   "source": [
    "bool_cols = [\n",
    "    \"allow_comments\",\n",
    "    \"premium\"\n",
    "]\n",
    "cat_cols = [\n",
    "    \"article_type\"\n",
    "]\n",
    "time_cols = [\n",
    "    \"date\"\n",
    "]\n",
    "str_list_cols = [\n",
    "    \"keywords\"\n",
    "]"
   ]
  },
  {
   "cell_type": "code",
   "execution_count": 14,
   "id": "5d6e29a5-60bf-49a9-9b9b-64e9db04d2af",
   "metadata": {},
   "outputs": [],
   "source": [
    "# custom functions to be passed\n",
    "def list_to_string(col) -> pl.Expr:\n",
    "    return ast.literal_eval(col)\n",
    "\n",
    "def int_to_bool(col) -> pl.Expr:\n",
    "    return True if int(col) else False"
   ]
  },
  {
   "cell_type": "code",
   "execution_count": 15,
   "id": "419e97da-0591-4b10-b957-b7f4462850fa",
   "metadata": {},
   "outputs": [],
   "source": [
    "# convert to bool, convert to real list, parse - format date, convert to categorical\n",
    "df_articles = df_articles.with_columns([\n",
    "    pl.col(bool_cols).apply(int_to_bool),\n",
    "    pl.col(str_list_cols).apply(list_to_string),\n",
    "    pl.col(time_cols).apply(lambda x: x.replace(\".000000\", \"\")).str.strptime(pl.Date, fmt=\"%Y-%m-%d %H:%M:%S\"),\n",
    "    pl.col(cat_cols).cast(pl.Categorical)\n",
    "])"
   ]
  },
  {
   "cell_type": "code",
   "execution_count": 16,
   "id": "d085e267-17bd-45b6-8223-4b8f0190f186",
   "metadata": {
    "tags": []
   },
   "outputs": [
    {
     "data": {
      "text/html": [
       "<div><style>\n",
       ".dataframe > thead > tr > th,\n",
       ".dataframe > tbody > tr > td {\n",
       "  text-align: right;\n",
       "}\n",
       "</style>\n",
       "<small>shape: (3, 10)</small><table border=\"1\" class=\"dataframe\"><thead><tr><th>article_id</th><th>url</th><th>title</th><th>desc</th><th>content</th><th>date</th><th>keywords</th><th>article_type</th><th>allow_comments</th><th>premium</th></tr><tr><td>i64</td><td>str</td><td>str</td><td>str</td><td>str</td><td>date</td><td>list[str]</td><td>cat</td><td>bool</td><td>bool</td></tr></thead><tbody><tr><td>47863</td><td>&quot;https://www.le…</td><td>&quot;La Russie ente…</td><td>&quot;Vol MH17 : un …</td><td>&quot;L’Australie, l…</td><td>2015-07-14</td><td>[&quot;international&quot;, &quot;economie&quot;, … &quot;russie&quot;]</td><td>&quot;Factuel&quot;</td><td>true</td><td>true</td></tr><tr><td>142250</td><td>&quot;https://www.le…</td><td>&quot;L’enquête aff…</td><td>&quot;Vol MH17 : la …</td><td>&quot;Le missile Buk…</td><td>2016-09-29</td><td>[&quot;international&quot;, &quot;europe&quot;, … &quot;russie&quot;]</td><td>&quot;Factuel&quot;</td><td>true</td><td>true</td></tr><tr><td>142507</td><td>&quot;https://www.le…</td><td>&quot;vidéo Abattu …</td><td>&quot;Vol MH17 : la …</td><td>&quot;Le 17 juillet …</td><td>2016-09-29</td><td>[&quot;international&quot;, &quot;videos&quot;, … &quot;russie&quot;]</td><td>&quot;Éclairage&quot;</td><td>true</td><td>false</td></tr></tbody></table></div>"
      ],
      "text/plain": [
       "shape: (3, 10)\n",
       "┌──────────┬───────────┬───────────┬───────────┬───┬───────────┬────────────┬────────────┬─────────┐\n",
       "│ article_ ┆ url       ┆ title     ┆ desc      ┆ … ┆ keywords  ┆ article_ty ┆ allow_comm ┆ premium │\n",
       "│ id       ┆ ---       ┆ ---       ┆ ---       ┆   ┆ ---       ┆ pe         ┆ ents       ┆ ---     │\n",
       "│ ---      ┆ str       ┆ str       ┆ str       ┆   ┆ list[str] ┆ ---        ┆ ---        ┆ bool    │\n",
       "│ i64      ┆           ┆           ┆           ┆   ┆           ┆ cat        ┆ bool       ┆         │\n",
       "╞══════════╪═══════════╪═══════════╪═══════════╪═══╪═══════════╪════════════╪════════════╪═════════╡\n",
       "│ 47863    ┆ https://w ┆ La Russie ┆ Vol MH17  ┆ … ┆ [\"interna ┆ Factuel    ┆ true       ┆ true    │\n",
       "│          ┆ ww.lemond ┆ entend    ┆ : un an   ┆   ┆ tional\",  ┆            ┆            ┆         │\n",
       "│          ┆ e.fr/euro ┆ bloquer   ┆ après sa  ┆   ┆ \"economie ┆            ┆            ┆         │\n",
       "│          ┆ pe/ar…    ┆ la cré…   ┆ destr…    ┆   ┆ \", … …    ┆            ┆            ┆         │\n",
       "│ 142250   ┆ https://w ┆ L’enquête ┆ Vol MH17  ┆ … ┆ [\"interna ┆ Factuel    ┆ true       ┆ true    │\n",
       "│          ┆ ww.lemond ┆ affirme   ┆ : la      ┆   ┆ tional\",  ┆            ┆            ┆         │\n",
       "│          ┆ e.fr/euro ┆ que le    ┆ Russie    ┆   ┆ \"europe\", ┆            ┆            ┆         │\n",
       "│          ┆ pe/ar…    ┆ missil…   ┆ clairemen ┆   ┆ … \"r…     ┆            ┆            ┆         │\n",
       "│          ┆           ┆           ┆ t …       ┆   ┆           ┆            ┆            ┆         │\n",
       "│ 142507   ┆ https://w ┆ vidéo     ┆ Vol MH17  ┆ … ┆ [\"interna ┆ Éclairage  ┆ true       ┆ false   │\n",
       "│          ┆ ww.lemond ┆ Abattu    ┆ : la      ┆   ┆ tional\",  ┆            ┆            ┆         │\n",
       "│          ┆ e.fr/euro ┆ au-dessus ┆ piste du  ┆   ┆ \"videos\", ┆            ┆            ┆         │\n",
       "│          ┆ pe/vi…    ┆ de l’Ukr… ┆ missile   ┆   ┆ … \"r…     ┆            ┆            ┆         │\n",
       "│          ┆           ┆           ┆ r…        ┆   ┆           ┆            ┆            ┆         │\n",
       "└──────────┴───────────┴───────────┴───────────┴───┴───────────┴────────────┴────────────┴─────────┘"
      ]
     },
     "execution_count": 16,
     "metadata": {},
     "output_type": "execute_result"
    }
   ],
   "source": [
    "df_articles.head(3)"
   ]
  },
  {
   "cell_type": "markdown",
   "id": "97b3bec1-f5fa-4923-a430-327c6b36b413",
   "metadata": {},
   "source": [
    "#### Check null values"
   ]
  },
  {
   "cell_type": "code",
   "execution_count": 17,
   "id": "f5a93a8e-e1fd-4e7b-9ef8-42c208054335",
   "metadata": {
    "tags": []
   },
   "outputs": [
    {
     "name": "stdout",
     "output_type": "stream",
     "text": [
      "article_id - 0\n",
      "url - 0\n",
      "title - 167\n",
      "desc - 167\n",
      "content - 0\n",
      "date - 0\n",
      "keywords - 0\n",
      "article_type - 0\n",
      "allow_comments - 0\n",
      "premium - 0\n"
     ]
    }
   ],
   "source": [
    "for col in df_articles.get_columns():\n",
    "    print(f'{col.name} - {col.is_null().sum()}')"
   ]
  },
  {
   "cell_type": "code",
   "execution_count": 18,
   "id": "62c8a756-4b50-4a3b-8090-2f6ca889702d",
   "metadata": {
    "tags": []
   },
   "outputs": [
    {
     "data": {
      "text/html": [
       "<div><style>\n",
       ".dataframe > thead > tr > th,\n",
       ".dataframe > tbody > tr > td {\n",
       "  text-align: right;\n",
       "}\n",
       "</style>\n",
       "<small>shape: (167, 10)</small><table border=\"1\" class=\"dataframe\"><thead><tr><th>article_id</th><th>url</th><th>title</th><th>desc</th><th>content</th><th>date</th><th>keywords</th><th>article_type</th><th>allow_comments</th><th>premium</th></tr><tr><td>i64</td><td>str</td><td>str</td><td>str</td><td>str</td><td>date</td><td>list[str]</td><td>cat</td><td>bool</td><td>bool</td></tr></thead><tbody><tr><td>3261362</td><td>&quot;https://www.le…</td><td>null</td><td>null</td><td>&quot;Nos contenus s…</td><td>2022-02-19</td><td>[&quot;international&quot;, &quot;europe&quot;, … &quot;crise-ukrainienne&quot;]</td><td>&quot;Live Actu&quot;</td><td>false</td><td>false</td></tr><tr><td>3261394</td><td>&quot;https://www.le…</td><td>null</td><td>null</td><td>&quot;Nos contenus s…</td><td>2022-02-20</td><td>[&quot;international&quot;, &quot;europe&quot;, … &quot;crise-ukrainienne&quot;]</td><td>&quot;Live Actu&quot;</td><td>false</td><td>false</td></tr><tr><td>3261596</td><td>&quot;https://www.le…</td><td>null</td><td>null</td><td>&quot;Pour approfond…</td><td>2022-02-21</td><td>[&quot;international&quot;, &quot;europe&quot;, … &quot;crise-ukrainienne&quot;]</td><td>&quot;Live Actu&quot;</td><td>false</td><td>false</td></tr><tr><td>3261619</td><td>&quot;https://www.le…</td><td>null</td><td>null</td><td>&quot;Pour approfond…</td><td>2022-02-22</td><td>[&quot;international&quot;, &quot;europe&quot;, … &quot;crise-ukrainienne&quot;]</td><td>&quot;Live Actu&quot;</td><td>false</td><td>false</td></tr><tr><td>&hellip;</td><td>&hellip;</td><td>&hellip;</td><td>&hellip;</td><td>&hellip;</td><td>&hellip;</td><td>&hellip;</td><td>&hellip;</td><td>&hellip;</td><td>&hellip;</td></tr><tr><td>3312114</td><td>&quot;https://www.le…</td><td>null</td><td>null</td><td>&quot;Retrouvez notr…</td><td>2023-02-25</td><td>[&quot;international&quot;, &quot;europe&quot;, … &quot;crise-ukrainienne&quot;]</td><td>&quot;Live Actu&quot;</td><td>false</td><td>false</td></tr><tr><td>3312149</td><td>&quot;https://www.le…</td><td>null</td><td>null</td><td>&quot;Retrouvez notr…</td><td>2023-02-26</td><td>[&quot;international&quot;, &quot;europe&quot;, … &quot;crise-ukrainienne&quot;]</td><td>&quot;Live Actu&quot;</td><td>false</td><td>false</td></tr><tr><td>3312202</td><td>&quot;https://www.le…</td><td>null</td><td>null</td><td>&quot;Retrouvez notr…</td><td>2023-02-27</td><td>[&quot;international&quot;, &quot;europe&quot;, … &quot;crise-ukrainienne&quot;]</td><td>&quot;Live Actu&quot;</td><td>false</td><td>false</td></tr><tr><td>3312368</td><td>&quot;https://www.le…</td><td>null</td><td>null</td><td>&quot;Retrouvez notr…</td><td>2023-02-28</td><td>[&quot;international&quot;, &quot;europe&quot;, … &quot;crise-ukrainienne&quot;]</td><td>&quot;Live Actu&quot;</td><td>false</td><td>false</td></tr></tbody></table></div>"
      ],
      "text/plain": [
       "shape: (167, 10)\n",
       "┌────────────┬───────────────┬───────┬──────┬───┬──────────────┬────────────┬────────────┬─────────┐\n",
       "│ article_id ┆ url           ┆ title ┆ desc ┆ … ┆ keywords     ┆ article_ty ┆ allow_comm ┆ premium │\n",
       "│ ---        ┆ ---           ┆ ---   ┆ ---  ┆   ┆ ---          ┆ pe         ┆ ents       ┆ ---     │\n",
       "│ i64        ┆ str           ┆ str   ┆ str  ┆   ┆ list[str]    ┆ ---        ┆ ---        ┆ bool    │\n",
       "│            ┆               ┆       ┆      ┆   ┆              ┆ cat        ┆ bool       ┆         │\n",
       "╞════════════╪═══════════════╪═══════╪══════╪═══╪══════════════╪════════════╪════════════╪═════════╡\n",
       "│ 3261362    ┆ https://www.l ┆ null  ┆ null ┆ … ┆ [\"internatio ┆ Live Actu  ┆ false      ┆ false   │\n",
       "│            ┆ emonde.fr/int ┆       ┆      ┆   ┆ nal\",        ┆            ┆            ┆         │\n",
       "│            ┆ ernati…       ┆       ┆      ┆   ┆ \"europe\", …  ┆            ┆            ┆         │\n",
       "│            ┆               ┆       ┆      ┆   ┆ \"c…          ┆            ┆            ┆         │\n",
       "│ 3261394    ┆ https://www.l ┆ null  ┆ null ┆ … ┆ [\"internatio ┆ Live Actu  ┆ false      ┆ false   │\n",
       "│            ┆ emonde.fr/int ┆       ┆      ┆   ┆ nal\",        ┆            ┆            ┆         │\n",
       "│            ┆ ernati…       ┆       ┆      ┆   ┆ \"europe\", …  ┆            ┆            ┆         │\n",
       "│            ┆               ┆       ┆      ┆   ┆ \"c…          ┆            ┆            ┆         │\n",
       "│ 3261596    ┆ https://www.l ┆ null  ┆ null ┆ … ┆ [\"internatio ┆ Live Actu  ┆ false      ┆ false   │\n",
       "│            ┆ emonde.fr/int ┆       ┆      ┆   ┆ nal\",        ┆            ┆            ┆         │\n",
       "│            ┆ ernati…       ┆       ┆      ┆   ┆ \"europe\", …  ┆            ┆            ┆         │\n",
       "│            ┆               ┆       ┆      ┆   ┆ \"c…          ┆            ┆            ┆         │\n",
       "│ 3261619    ┆ https://www.l ┆ null  ┆ null ┆ … ┆ [\"internatio ┆ Live Actu  ┆ false      ┆ false   │\n",
       "│            ┆ emonde.fr/int ┆       ┆      ┆   ┆ nal\",        ┆            ┆            ┆         │\n",
       "│            ┆ ernati…       ┆       ┆      ┆   ┆ \"europe\", …  ┆            ┆            ┆         │\n",
       "│            ┆               ┆       ┆      ┆   ┆ \"c…          ┆            ┆            ┆         │\n",
       "│ …          ┆ …             ┆ …     ┆ …    ┆ … ┆ …            ┆ …          ┆ …          ┆ …       │\n",
       "│ 3312114    ┆ https://www.l ┆ null  ┆ null ┆ … ┆ [\"internatio ┆ Live Actu  ┆ false      ┆ false   │\n",
       "│            ┆ emonde.fr/int ┆       ┆      ┆   ┆ nal\",        ┆            ┆            ┆         │\n",
       "│            ┆ ernati…       ┆       ┆      ┆   ┆ \"europe\", …  ┆            ┆            ┆         │\n",
       "│            ┆               ┆       ┆      ┆   ┆ \"c…          ┆            ┆            ┆         │\n",
       "│ 3312149    ┆ https://www.l ┆ null  ┆ null ┆ … ┆ [\"internatio ┆ Live Actu  ┆ false      ┆ false   │\n",
       "│            ┆ emonde.fr/int ┆       ┆      ┆   ┆ nal\",        ┆            ┆            ┆         │\n",
       "│            ┆ ernati…       ┆       ┆      ┆   ┆ \"europe\", …  ┆            ┆            ┆         │\n",
       "│            ┆               ┆       ┆      ┆   ┆ \"c…          ┆            ┆            ┆         │\n",
       "│ 3312202    ┆ https://www.l ┆ null  ┆ null ┆ … ┆ [\"internatio ┆ Live Actu  ┆ false      ┆ false   │\n",
       "│            ┆ emonde.fr/int ┆       ┆      ┆   ┆ nal\",        ┆            ┆            ┆         │\n",
       "│            ┆ ernati…       ┆       ┆      ┆   ┆ \"europe\", …  ┆            ┆            ┆         │\n",
       "│            ┆               ┆       ┆      ┆   ┆ \"c…          ┆            ┆            ┆         │\n",
       "│ 3312368    ┆ https://www.l ┆ null  ┆ null ┆ … ┆ [\"internatio ┆ Live Actu  ┆ false      ┆ false   │\n",
       "│            ┆ emonde.fr/int ┆       ┆      ┆   ┆ nal\",        ┆            ┆            ┆         │\n",
       "│            ┆ ernati…       ┆       ┆      ┆   ┆ \"europe\", …  ┆            ┆            ┆         │\n",
       "│            ┆               ┆       ┆      ┆   ┆ \"c…          ┆            ┆            ┆         │\n",
       "└────────────┴───────────────┴───────┴──────┴───┴──────────────┴────────────┴────────────┴─────────┘"
      ]
     },
     "execution_count": 18,
     "metadata": {},
     "output_type": "execute_result"
    }
   ],
   "source": [
    "# Let's investigate why null values -,-\n",
    "df_articles.filter(pl.col(\"title\").is_null())"
   ]
  },
  {
   "cell_type": "code",
   "execution_count": 19,
   "id": "2deb1c8c-ed42-4e54-8bc0-29b0402e3ddd",
   "metadata": {
    "tags": []
   },
   "outputs": [],
   "source": [
    "# those are the articles of type \"Live actu\", that we did not want to parse in the first place but that got through, remove\n",
    "df_articles = df_articles.drop_nulls()"
   ]
  },
  {
   "cell_type": "code",
   "execution_count": 20,
   "id": "a6214cb5-fc9b-4d0b-89a0-323d63858854",
   "metadata": {
    "tags": []
   },
   "outputs": [
    {
     "data": {
      "text/plain": [
       "(2658, 10)"
      ]
     },
     "execution_count": 20,
     "metadata": {},
     "output_type": "execute_result"
    }
   ],
   "source": [
    "df_articles.shape"
   ]
  },
  {
   "cell_type": "markdown",
   "id": "2f72b673-0b94-45fc-9c6e-de8da84025ab",
   "metadata": {},
   "source": [
    "#### Remove articles that are older than desired period (start conflict 24/02/2022 + 1 year)"
   ]
  },
  {
   "cell_type": "code",
   "execution_count": 21,
   "id": "662780de-7dba-4b5b-a985-f6bf8300f763",
   "metadata": {
    "tags": []
   },
   "outputs": [
    {
     "name": "stdout",
     "output_type": "stream",
     "text": [
      "(2590, 10) shape: (2, 10)\n",
      "┌──────────┬───────────┬───────────┬───────────┬───┬───────────┬────────────┬────────────┬─────────┐\n",
      "│ article_ ┆ url       ┆ title     ┆ desc      ┆ … ┆ keywords  ┆ article_ty ┆ allow_comm ┆ premium │\n",
      "│ id       ┆ ---       ┆ ---       ┆ ---       ┆   ┆ ---       ┆ pe         ┆ ents       ┆ ---     │\n",
      "│ ---      ┆ str       ┆ str       ┆ str       ┆   ┆ list[str] ┆ ---        ┆ ---        ┆ bool    │\n",
      "│ i64      ┆           ┆           ┆           ┆   ┆           ┆ cat        ┆ bool       ┆         │\n",
      "╞══════════╪═══════════╪═══════════╪═══════════╪═══╪═══════════╪════════════╪════════════╪═════════╡\n",
      "│ 3259703  ┆ https://w ┆ Le        ┆ Au        ┆ … ┆ [\"interna ┆ Factuel    ┆ true       ┆ false   │\n",
      "│          ┆ ww.lemond ┆ conflit   ┆ Festival  ┆   ┆ tional\",  ┆            ┆            ┆         │\n",
      "│          ┆ e.fr/actu ┆ russo-ukr ┆ de journa ┆   ┆ \"europe\", ┆            ┆            ┆         │\n",
      "│          ┆ alite…    ┆ ainien,   ┆ lisme de  ┆   ┆ … \"f…     ┆            ┆            ┆         │\n",
      "│          ┆           ┆ qui …     ┆ Co…       ┆   ┆           ┆            ┆            ┆         │\n",
      "│ 3261407  ┆ https://w ┆ Selon     ┆ Guerre en ┆ … ┆ [\"interna ┆ Factuel    ┆ true       ┆ false   │\n",
      "│          ┆ ww.lemond ┆ l’ONG, «  ┆ Ukraine : ┆   ┆ tional\",  ┆            ┆            ┆         │\n",
      "│          ┆ e.fr/inte ┆ la        ┆ Amnesty   ┆   ┆ \"europe\", ┆            ┆            ┆         │\n",
      "│          ┆ rnati…    ┆ majorité  ┆ Inte…     ┆   ┆ … \"c…     ┆            ┆            ┆         │\n",
      "│          ┆           ┆ des …     ┆           ┆   ┆           ┆            ┆            ┆         │\n",
      "└──────────┴───────────┴───────────┴───────────┴───┴───────────┴────────────┴────────────┴─────────┘\n"
     ]
    }
   ],
   "source": [
    "df_articles = df_articles.filter(pl.col(\"date\") >= datetime(2022,2,24))\n",
    "print(df_articles.shape, df_articles.head(2))"
   ]
  },
  {
   "cell_type": "markdown",
   "id": "9366b4db-a58d-40d1-b037-75b471020e36",
   "metadata": {},
   "source": [
    "#### Truncate premium articles to first 2500 characters"
   ]
  },
  {
   "cell_type": "code",
   "execution_count": 22,
   "id": "e0e5786e-4405-4df8-b873-e37b1ce856e0",
   "metadata": {
    "tags": []
   },
   "outputs": [
    {
     "name": "stdout",
     "output_type": "stream",
     "text": [
      "this is a f string\n"
     ]
    }
   ],
   "source": [
    "a = \"f\"\n",
    "print(f\"this is a {a} string\")"
   ]
  },
  {
   "cell_type": "code",
   "execution_count": 23,
   "id": "b29b0196-6600-4b12-a474-4629eef61854",
   "metadata": {
    "tags": []
   },
   "outputs": [
    {
     "name": "stdout",
     "output_type": "stream",
     "text": [
      "premium articles: 1936/2590\n"
     ]
    }
   ],
   "source": [
    "print(f\"premium articles: {len(df_articles.filter(pl.col('premium') == True))}/{len(df_articles)}\")"
   ]
  },
  {
   "cell_type": "code",
   "execution_count": 24,
   "id": "b458cb4b-d3aa-4566-9456-95b7a4b5c245",
   "metadata": {
    "tags": []
   },
   "outputs": [],
   "source": [
    "df_articles_copyright = df_articles.with_columns([\n",
    "    pl.when(pl.col(\"premium\") == True).then(pl.col(\"content\").apply(lambda x: x[0:2500])).otherwise(pl.col(\"content\"))\n",
    "])"
   ]
  },
  {
   "cell_type": "code",
   "execution_count": 25,
   "id": "87c6dc72-a2dd-4aa1-9f76-2e526acebb4c",
   "metadata": {
    "tags": []
   },
   "outputs": [
    {
     "data": {
      "text/html": [
       "<div><style>\n",
       ".dataframe > thead > tr > th,\n",
       ".dataframe > tbody > tr > td {\n",
       "  text-align: right;\n",
       "}\n",
       "</style>\n",
       "<small>shape: (5, 10)</small><table border=\"1\" class=\"dataframe\"><thead><tr><th>article_id</th><th>url</th><th>title</th><th>desc</th><th>content</th><th>date</th><th>keywords</th><th>article_type</th><th>allow_comments</th><th>premium</th></tr><tr><td>i64</td><td>str</td><td>str</td><td>str</td><td>str</td><td>date</td><td>list[str]</td><td>cat</td><td>bool</td><td>bool</td></tr></thead><tbody><tr><td>3259703</td><td>&quot;https://www.le…</td><td>&quot;Le conflit rus…</td><td>&quot;Au Festival de…</td><td>&quot;Parce qu’elle …</td><td>2022-07-16</td><td>[&quot;international&quot;, &quot;europe&quot;, … &quot;festival-international-de-journalisme-de-couthures&quot;]</td><td>&quot;Factuel&quot;</td><td>true</td><td>false</td></tr><tr><td>3261407</td><td>&quot;https://www.le…</td><td>&quot;Selon l’ONG, «…</td><td>&quot;Guerre en Ukra…</td><td>&quot;C’est l’un des…</td><td>2022-03-09</td><td>[&quot;international&quot;, &quot;europe&quot;, … &quot;crise-ukrainienne&quot;]</td><td>&quot;Factuel&quot;</td><td>true</td><td>false</td></tr><tr><td>3261429</td><td>&quot;https://www.le…</td><td>&quot;Dans un ouvrag…</td><td>&quot;« Guerres d’in…</td><td>&quot;Livre. Plus le…</td><td>2022-02-24</td><td>[&quot;international&quot;, &quot;geopolitique&quot;, … &quot;idees-livres&quot;]</td><td>&quot;Critique&quot;</td><td>true</td><td>true</td></tr><tr><td>3261869</td><td>&quot;https://www.le…</td><td>&quot;Après l’offen…</td><td>&quot;Guerre en Ukra…</td><td>&quot;Les autorités…</td><td>2022-02-24</td><td>[&quot;international&quot;, &quot;proche-orient&quot;, … &quot;crise-ukrainienne&quot;]</td><td>&quot;Factuel&quot;</td><td>true</td><td>true</td></tr><tr><td>3261889</td><td>&quot;https://www.le…</td><td>&quot;Hors énergie,…</td><td>&quot;Crise ukrainie…</td><td>&quot;Les sanctions …</td><td>2022-02-25</td><td>[&quot;economie&quot;, &quot;international&quot;, … &quot;crise-ukrainienne&quot;]</td><td>&quot;Factuel&quot;</td><td>true</td><td>true</td></tr></tbody></table></div>"
      ],
      "text/plain": [
       "shape: (5, 10)\n",
       "┌──────────┬───────────┬───────────┬───────────┬───┬───────────┬────────────┬────────────┬─────────┐\n",
       "│ article_ ┆ url       ┆ title     ┆ desc      ┆ … ┆ keywords  ┆ article_ty ┆ allow_comm ┆ premium │\n",
       "│ id       ┆ ---       ┆ ---       ┆ ---       ┆   ┆ ---       ┆ pe         ┆ ents       ┆ ---     │\n",
       "│ ---      ┆ str       ┆ str       ┆ str       ┆   ┆ list[str] ┆ ---        ┆ ---        ┆ bool    │\n",
       "│ i64      ┆           ┆           ┆           ┆   ┆           ┆ cat        ┆ bool       ┆         │\n",
       "╞══════════╪═══════════╪═══════════╪═══════════╪═══╪═══════════╪════════════╪════════════╪═════════╡\n",
       "│ 3259703  ┆ https://w ┆ Le        ┆ Au        ┆ … ┆ [\"interna ┆ Factuel    ┆ true       ┆ false   │\n",
       "│          ┆ ww.lemond ┆ conflit   ┆ Festival  ┆   ┆ tional\",  ┆            ┆            ┆         │\n",
       "│          ┆ e.fr/actu ┆ russo-ukr ┆ de journa ┆   ┆ \"europe\", ┆            ┆            ┆         │\n",
       "│          ┆ alite…    ┆ ainien,   ┆ lisme de  ┆   ┆ … \"f…     ┆            ┆            ┆         │\n",
       "│          ┆           ┆ qui …     ┆ Co…       ┆   ┆           ┆            ┆            ┆         │\n",
       "│ 3261407  ┆ https://w ┆ Selon     ┆ Guerre en ┆ … ┆ [\"interna ┆ Factuel    ┆ true       ┆ false   │\n",
       "│          ┆ ww.lemond ┆ l’ONG, «  ┆ Ukraine : ┆   ┆ tional\",  ┆            ┆            ┆         │\n",
       "│          ┆ e.fr/inte ┆ la        ┆ Amnesty   ┆   ┆ \"europe\", ┆            ┆            ┆         │\n",
       "│          ┆ rnati…    ┆ majorité  ┆ Inte…     ┆   ┆ … \"c…     ┆            ┆            ┆         │\n",
       "│          ┆           ┆ des …     ┆           ┆   ┆           ┆            ┆            ┆         │\n",
       "│ 3261429  ┆ https://w ┆ Dans un   ┆ « Guerres ┆ … ┆ [\"interna ┆ Critique   ┆ true       ┆ true    │\n",
       "│          ┆ ww.lemond ┆ ouvrage   ┆ d’influen ┆   ┆ tional\",  ┆            ┆            ┆         │\n",
       "│          ┆ e.fr/idee ┆ accessibl ┆ ce »      ┆   ┆ \"geopolit ┆            ┆            ┆         │\n",
       "│          ┆ s/art…    ┆ e et tr…  ┆ décrypt…  ┆   ┆ ique\"…    ┆            ┆            ┆         │\n",
       "│ 3261869  ┆ https://w ┆ Après l’o ┆ Guerre en ┆ … ┆ [\"interna ┆ Factuel    ┆ true       ┆ true    │\n",
       "│          ┆ ww.lemond ┆ ffensive  ┆ Ukraine : ┆   ┆ tional\",  ┆            ┆            ┆         │\n",
       "│          ┆ e.fr/inte ┆ russe,    ┆ Israël se ┆   ┆ \"proche-o ┆            ┆            ┆         │\n",
       "│          ┆ rnati…    ┆ l’Etat…   ┆ r…        ┆   ┆ rient…    ┆            ┆            ┆         │\n",
       "│ 3261889  ┆ https://w ┆ Hors      ┆ Crise ukr ┆ … ┆ [\"economi ┆ Factuel    ┆ true       ┆ true    │\n",
       "│          ┆ ww.lemond ┆ énergie,  ┆ ainienne  ┆   ┆ e\", \"inte ┆            ┆            ┆         │\n",
       "│          ┆ e.fr/econ ┆ nos       ┆ : les     ┆   ┆ rnational ┆            ┆            ┆         │\n",
       "│          ┆ omie/…    ┆ échanges  ┆ entrepri… ┆   ┆ \", … …    ┆            ┆            ┆         │\n",
       "│          ┆           ┆ com…      ┆           ┆   ┆           ┆            ┆            ┆         │\n",
       "└──────────┴───────────┴───────────┴───────────┴───┴───────────┴────────────┴────────────┴─────────┘"
      ]
     },
     "execution_count": 25,
     "metadata": {},
     "output_type": "execute_result"
    }
   ],
   "source": [
    "df_articles_copyright.head(5)"
   ]
  },
  {
   "cell_type": "code",
   "execution_count": 26,
   "id": "4cc20cc2-49b1-410d-b0ef-a1c181794502",
   "metadata": {
    "tags": []
   },
   "outputs": [
    {
     "name": "stdout",
     "output_type": "stream",
     "text": [
      "2500\n",
      "4582\n"
     ]
    }
   ],
   "source": [
    "# check if premium articles = 2500 char\n",
    "print(len(df_articles_copyright.filter(pl.col(\"premium\") == True).select(pl.col(\"content\")).rows()[0][0]))\n",
    "print(len(df_articles_copyright.filter(pl.col(\"premium\") == False).select(pl.col(\"content\")).rows()[0][0]))"
   ]
  },
  {
   "cell_type": "markdown",
   "id": "f56e4f8f-ae21-459d-ae98-a0066891ac4f",
   "metadata": {},
   "source": [
    "### Join articles, comments into single dataframe"
   ]
  },
  {
   "cell_type": "markdown",
   "id": "1b4972b1-1e85-48e9-8c91-df2389c1b709",
   "metadata": {},
   "source": [
    "**Notes** <br>\n",
    "> - Pros : tidy format, one observation by rows, one variable per column ; one single dataset to work with\n",
    "> - Cons : size : several comments per articles, so we duplicate article content & desc for every comments\n"
   ]
  },
  {
   "cell_type": "code",
   "execution_count": 27,
   "id": "f7b3686a-d73a-4652-aff9-3b90b6ed77cf",
   "metadata": {},
   "outputs": [
    {
     "data": {
      "text/plain": [
       "(2590, 10)"
      ]
     },
     "execution_count": 27,
     "metadata": {},
     "output_type": "execute_result"
    }
   ],
   "source": [
    "df_articles_copyright.shape"
   ]
  },
  {
   "cell_type": "code",
   "execution_count": 28,
   "id": "6c7ac9ff-df7c-4cf9-a538-3e2cf6263757",
   "metadata": {
    "tags": []
   },
   "outputs": [
    {
     "data": {
      "text/plain": [
       "(244899, 3)"
      ]
     },
     "execution_count": 28,
     "metadata": {},
     "output_type": "execute_result"
    }
   ],
   "source": [
    "df_comments.shape"
   ]
  },
  {
   "cell_type": "code",
   "execution_count": 29,
   "id": "7a3978e8-9e79-48fe-8f52-357e8f07c023",
   "metadata": {},
   "outputs": [
    {
     "data": {
      "text/plain": [
       "(236643, 12)"
      ]
     },
     "execution_count": 29,
     "metadata": {},
     "output_type": "execute_result"
    }
   ],
   "source": [
    "# note : we now get fewer comments, because we previously removed out-of-period articles, and null (lives) with according article_id\n",
    "dataset = df_articles_copyright.join(df_comments, on=\"article_id\", how=\"left\")\n",
    "dataset.shape"
   ]
  },
  {
   "cell_type": "code",
   "execution_count": 30,
   "id": "c4f98c57-66ce-4026-b47c-3a578c91afd3",
   "metadata": {
    "tags": []
   },
   "outputs": [
    {
     "data": {
      "text/html": [
       "<div><style>\n",
       ".dataframe > thead > tr > th,\n",
       ".dataframe > tbody > tr > td {\n",
       "  text-align: right;\n",
       "}\n",
       "</style>\n",
       "<small>shape: (2, 12)</small><table border=\"1\" class=\"dataframe\"><thead><tr><th>article_id</th><th>url</th><th>title</th><th>desc</th><th>content</th><th>date</th><th>keywords</th><th>article_type</th><th>allow_comments</th><th>premium</th><th>author</th><th>comment</th></tr><tr><td>i64</td><td>str</td><td>str</td><td>str</td><td>str</td><td>date</td><td>list[str]</td><td>cat</td><td>bool</td><td>bool</td><td>str</td><td>str</td></tr></thead><tbody><tr><td>3259703</td><td>&quot;https://www.le…</td><td>&quot;Le conflit rus…</td><td>&quot;Au Festival de…</td><td>&quot;Parce qu’elle …</td><td>2022-07-16</td><td>[&quot;international&quot;, &quot;europe&quot;, … &quot;festival-international-de-journalisme-de-couthures&quot;]</td><td>&quot;Factuel&quot;</td><td>true</td><td>false</td><td>&quot;Ricardo Uztarr…</td><td>&quot;La question qu…</td></tr><tr><td>3259703</td><td>&quot;https://www.le…</td><td>&quot;Le conflit rus…</td><td>&quot;Au Festival de…</td><td>&quot;Parce qu’elle …</td><td>2022-07-16</td><td>[&quot;international&quot;, &quot;europe&quot;, … &quot;festival-international-de-journalisme-de-couthures&quot;]</td><td>&quot;Factuel&quot;</td><td>true</td><td>false</td><td>&quot;Ricardo Uztarr…</td><td>&quot;Salandre : les…</td></tr></tbody></table></div>"
      ],
      "text/plain": [
       "shape: (2, 12)\n",
       "┌──────────┬────────────┬───────────┬───────────┬───┬────────────┬─────────┬───────────┬───────────┐\n",
       "│ article_ ┆ url        ┆ title     ┆ desc      ┆ … ┆ allow_comm ┆ premium ┆ author    ┆ comment   │\n",
       "│ id       ┆ ---        ┆ ---       ┆ ---       ┆   ┆ ents       ┆ ---     ┆ ---       ┆ ---       │\n",
       "│ ---      ┆ str        ┆ str       ┆ str       ┆   ┆ ---        ┆ bool    ┆ str       ┆ str       │\n",
       "│ i64      ┆            ┆           ┆           ┆   ┆ bool       ┆         ┆           ┆           │\n",
       "╞══════════╪════════════╪═══════════╪═══════════╪═══╪════════════╪═════════╪═══════════╪═══════════╡\n",
       "│ 3259703  ┆ https://ww ┆ Le        ┆ Au        ┆ … ┆ true       ┆ false   ┆ Ricardo   ┆ La        │\n",
       "│          ┆ w.lemonde. ┆ conflit   ┆ Festival  ┆   ┆            ┆         ┆ Uztarroz  ┆ question  │\n",
       "│          ┆ fr/actuali ┆ russo-ukr ┆ de journa ┆   ┆            ┆         ┆           ┆ qui       │\n",
       "│          ┆ te…        ┆ ainien,   ┆ lisme de  ┆   ┆            ┆         ┆           ┆ vaille et │\n",
       "│          ┆            ┆ qui …     ┆ Co…       ┆   ┆            ┆         ┆           ┆ qui n'…   │\n",
       "│ 3259703  ┆ https://ww ┆ Le        ┆ Au        ┆ … ┆ true       ┆ false   ┆ Ricardo   ┆ Salandre  │\n",
       "│          ┆ w.lemonde. ┆ conflit   ┆ Festival  ┆   ┆            ┆         ┆ Uztarroz  ┆ : les     │\n",
       "│          ┆ fr/actuali ┆ russo-ukr ┆ de journa ┆   ┆            ┆         ┆           ┆ documents │\n",
       "│          ┆ te…        ┆ ainien,   ┆ lisme de  ┆   ┆            ┆         ┆           ┆ dont vo…  │\n",
       "│          ┆            ┆ qui …     ┆ Co…       ┆   ┆            ┆         ┆           ┆           │\n",
       "└──────────┴────────────┴───────────┴───────────┴───┴────────────┴─────────┴───────────┴───────────┘"
      ]
     },
     "execution_count": 30,
     "metadata": {},
     "output_type": "execute_result"
    }
   ],
   "source": [
    "dataset.head(2)"
   ]
  },
  {
   "cell_type": "markdown",
   "id": "f5fe5ea8-a432-4991-b608-33eca868cf9d",
   "metadata": {},
   "source": [
    "Sanity checkk if null values"
   ]
  },
  {
   "cell_type": "code",
   "execution_count": 39,
   "id": "24da3f0b-817f-40a0-bb86-cdf27a0c9642",
   "metadata": {
    "tags": []
   },
   "outputs": [
    {
     "name": "stdout",
     "output_type": "stream",
     "text": [
      "article_id - 0\n",
      "url - 0\n",
      "title - 0\n",
      "desc - 0\n",
      "content - 0\n",
      "date - 0\n",
      "keywords - 0\n",
      "article_type - 0\n",
      "allow_comments - 0\n",
      "premium - 0\n",
      "author - 0\n",
      "comment - 0\n"
     ]
    }
   ],
   "source": [
    "for col in dataset.get_columns():\n",
    "    print(f'{col.name} - {col.is_null().sum()}')"
   ]
  },
  {
   "cell_type": "markdown",
   "id": "8bb72c13-ead9-4d02-976a-9a58f817f485",
   "metadata": {},
   "source": [
    "### Save to compressed parquet"
   ]
  },
  {
   "cell_type": "code",
   "execution_count": 33,
   "id": "a56ccd05-0364-4261-bbfd-5dfcf4437d9a",
   "metadata": {
    "tags": []
   },
   "outputs": [],
   "source": [
    "dataset.write_parquet(\"lmd_ukraine.parquet\", compression=\"gzip\")"
   ]
  },
  {
   "cell_type": "markdown",
   "id": "e0fc1f2e-570c-48af-a6d8-dd4bad68ee6c",
   "metadata": {},
   "source": [
    "Read it back using Polars (800ms)"
   ]
  },
  {
   "cell_type": "code",
   "execution_count": 34,
   "id": "9cd42980-7749-410d-b528-c14415b2b02e",
   "metadata": {
    "tags": []
   },
   "outputs": [
    {
     "name": "stdout",
     "output_type": "stream",
     "text": [
      "819 ms ± 12.1 ms per loop (mean ± std. dev. of 7 runs, 1 loop each)\n"
     ]
    }
   ],
   "source": [
    "%%timeit\n",
    "# using Polars\n",
    "new_dataset_pl = pl.read_parquet('lmd_ukraine.parquet')"
   ]
  },
  {
   "cell_type": "code",
   "execution_count": 35,
   "id": "69ace714-a1e7-4e5b-ba03-0f6b232f1b85",
   "metadata": {
    "tags": []
   },
   "outputs": [
    {
     "data": {
      "text/html": [
       "<div><style>\n",
       ".dataframe > thead > tr > th,\n",
       ".dataframe > tbody > tr > td {\n",
       "  text-align: right;\n",
       "}\n",
       "</style>\n",
       "<small>shape: (2, 12)</small><table border=\"1\" class=\"dataframe\"><thead><tr><th>article_id</th><th>url</th><th>title</th><th>desc</th><th>content</th><th>date</th><th>keywords</th><th>article_type</th><th>allow_comments</th><th>premium</th><th>author</th><th>comment</th></tr><tr><td>i64</td><td>str</td><td>str</td><td>str</td><td>str</td><td>date</td><td>list[str]</td><td>cat</td><td>bool</td><td>bool</td><td>str</td><td>str</td></tr></thead><tbody><tr><td>3259703</td><td>&quot;https://www.le…</td><td>&quot;Le conflit rus…</td><td>&quot;Au Festival de…</td><td>&quot;Parce qu’elle …</td><td>2022-07-16</td><td>[&quot;international&quot;, &quot;europe&quot;, … &quot;festival-international-de-journalisme-de-couthures&quot;]</td><td>&quot;Factuel&quot;</td><td>true</td><td>false</td><td>&quot;Ricardo Uztarr…</td><td>&quot;La question qu…</td></tr><tr><td>3259703</td><td>&quot;https://www.le…</td><td>&quot;Le conflit rus…</td><td>&quot;Au Festival de…</td><td>&quot;Parce qu’elle …</td><td>2022-07-16</td><td>[&quot;international&quot;, &quot;europe&quot;, … &quot;festival-international-de-journalisme-de-couthures&quot;]</td><td>&quot;Factuel&quot;</td><td>true</td><td>false</td><td>&quot;Ricardo Uztarr…</td><td>&quot;Salandre : les…</td></tr></tbody></table></div>"
      ],
      "text/plain": [
       "shape: (2, 12)\n",
       "┌──────────┬────────────┬───────────┬───────────┬───┬────────────┬─────────┬───────────┬───────────┐\n",
       "│ article_ ┆ url        ┆ title     ┆ desc      ┆ … ┆ allow_comm ┆ premium ┆ author    ┆ comment   │\n",
       "│ id       ┆ ---        ┆ ---       ┆ ---       ┆   ┆ ents       ┆ ---     ┆ ---       ┆ ---       │\n",
       "│ ---      ┆ str        ┆ str       ┆ str       ┆   ┆ ---        ┆ bool    ┆ str       ┆ str       │\n",
       "│ i64      ┆            ┆           ┆           ┆   ┆ bool       ┆         ┆           ┆           │\n",
       "╞══════════╪════════════╪═══════════╪═══════════╪═══╪════════════╪═════════╪═══════════╪═══════════╡\n",
       "│ 3259703  ┆ https://ww ┆ Le        ┆ Au        ┆ … ┆ true       ┆ false   ┆ Ricardo   ┆ La        │\n",
       "│          ┆ w.lemonde. ┆ conflit   ┆ Festival  ┆   ┆            ┆         ┆ Uztarroz  ┆ question  │\n",
       "│          ┆ fr/actuali ┆ russo-ukr ┆ de journa ┆   ┆            ┆         ┆           ┆ qui       │\n",
       "│          ┆ te…        ┆ ainien,   ┆ lisme de  ┆   ┆            ┆         ┆           ┆ vaille et │\n",
       "│          ┆            ┆ qui …     ┆ Co…       ┆   ┆            ┆         ┆           ┆ qui n'…   │\n",
       "│ 3259703  ┆ https://ww ┆ Le        ┆ Au        ┆ … ┆ true       ┆ false   ┆ Ricardo   ┆ Salandre  │\n",
       "│          ┆ w.lemonde. ┆ conflit   ┆ Festival  ┆   ┆            ┆         ┆ Uztarroz  ┆ : les     │\n",
       "│          ┆ fr/actuali ┆ russo-ukr ┆ de journa ┆   ┆            ┆         ┆           ┆ documents │\n",
       "│          ┆ te…        ┆ ainien,   ┆ lisme de  ┆   ┆            ┆         ┆           ┆ dont vo…  │\n",
       "│          ┆            ┆ qui …     ┆ Co…       ┆   ┆            ┆         ┆           ┆           │\n",
       "└──────────┴────────────┴───────────┴───────────┴───┴────────────┴─────────┴───────────┴───────────┘"
      ]
     },
     "execution_count": 35,
     "metadata": {},
     "output_type": "execute_result"
    }
   ],
   "source": [
    "new_dataset_pl = pl.read_parquet('lmd_ukraine.parquet')\n",
    "new_dataset_pl.head(2)"
   ]
  },
  {
   "cell_type": "markdown",
   "id": "3a91e2a9-749f-4fb6-9034-8aac1a7361ed",
   "metadata": {},
   "source": [
    "Read it back using Pandas (1,8 sec)"
   ]
  },
  {
   "cell_type": "code",
   "execution_count": 36,
   "id": "fb7b3fd8-c4b7-48f4-b96e-9f6851ee9227",
   "metadata": {
    "tags": []
   },
   "outputs": [
    {
     "name": "stdout",
     "output_type": "stream",
     "text": [
      "1.89 s ± 102 ms per loop (mean ± std. dev. of 7 runs, 1 loop each)\n"
     ]
    }
   ],
   "source": [
    "%%timeit\n",
    "# using Pandas\n",
    "new_dataset_pd = pd.read_parquet('lmd_ukraine.parquet')"
   ]
  },
  {
   "cell_type": "code",
   "execution_count": 37,
   "id": "cf015c55-f853-4cd4-aabb-75cc4fdb0d97",
   "metadata": {
    "tags": []
   },
   "outputs": [
    {
     "data": {
      "text/html": [
       "<div>\n",
       "<style scoped>\n",
       "    .dataframe tbody tr th:only-of-type {\n",
       "        vertical-align: middle;\n",
       "    }\n",
       "\n",
       "    .dataframe tbody tr th {\n",
       "        vertical-align: top;\n",
       "    }\n",
       "\n",
       "    .dataframe thead th {\n",
       "        text-align: right;\n",
       "    }\n",
       "</style>\n",
       "<table border=\"1\" class=\"dataframe\">\n",
       "  <thead>\n",
       "    <tr style=\"text-align: right;\">\n",
       "      <th></th>\n",
       "      <th>article_id</th>\n",
       "      <th>url</th>\n",
       "      <th>title</th>\n",
       "      <th>desc</th>\n",
       "      <th>content</th>\n",
       "      <th>date</th>\n",
       "      <th>keywords</th>\n",
       "      <th>article_type</th>\n",
       "      <th>allow_comments</th>\n",
       "      <th>premium</th>\n",
       "      <th>author</th>\n",
       "      <th>comment</th>\n",
       "    </tr>\n",
       "  </thead>\n",
       "  <tbody>\n",
       "    <tr>\n",
       "      <th>0</th>\n",
       "      <td>3259703</td>\n",
       "      <td>https://www.lemonde.fr/actualite-medias/articl...</td>\n",
       "      <td>Le conflit russo-ukrainien, qui mobilise les m...</td>\n",
       "      <td>Au Festival de journalisme de Couthures : la g...</td>\n",
       "      <td>Parce qu’elle est revenue frapper à nos porte...</td>\n",
       "      <td>2022-07-16</td>\n",
       "      <td>[international, europe, ukraine, crise-ukraini...</td>\n",
       "      <td>Factuel</td>\n",
       "      <td>True</td>\n",
       "      <td>False</td>\n",
       "      <td>Ricardo Uztarroz</td>\n",
       "      <td>La question qui vaille et qui n'est pas posée...</td>\n",
       "    </tr>\n",
       "    <tr>\n",
       "      <th>1</th>\n",
       "      <td>3259703</td>\n",
       "      <td>https://www.lemonde.fr/actualite-medias/articl...</td>\n",
       "      <td>Le conflit russo-ukrainien, qui mobilise les m...</td>\n",
       "      <td>Au Festival de journalisme de Couthures : la g...</td>\n",
       "      <td>Parce qu’elle est revenue frapper à nos porte...</td>\n",
       "      <td>2022-07-16</td>\n",
       "      <td>[international, europe, ukraine, crise-ukraini...</td>\n",
       "      <td>Factuel</td>\n",
       "      <td>True</td>\n",
       "      <td>False</td>\n",
       "      <td>Ricardo Uztarroz</td>\n",
       "      <td>Salandre : les documents dont vous faîtes ét...</td>\n",
       "    </tr>\n",
       "  </tbody>\n",
       "</table>\n",
       "</div>"
      ],
      "text/plain": [
       "   article_id                                                url   \n",
       "0     3259703  https://www.lemonde.fr/actualite-medias/articl...  \\\n",
       "1     3259703  https://www.lemonde.fr/actualite-medias/articl...   \n",
       "\n",
       "                                               title   \n",
       "0  Le conflit russo-ukrainien, qui mobilise les m...  \\\n",
       "1  Le conflit russo-ukrainien, qui mobilise les m...   \n",
       "\n",
       "                                                desc   \n",
       "0  Au Festival de journalisme de Couthures : la g...  \\\n",
       "1  Au Festival de journalisme de Couthures : la g...   \n",
       "\n",
       "                                             content        date   \n",
       "0  Parce qu’elle est revenue frapper à nos porte...  2022-07-16  \\\n",
       "1  Parce qu’elle est revenue frapper à nos porte...  2022-07-16   \n",
       "\n",
       "                                            keywords article_type   \n",
       "0  [international, europe, ukraine, crise-ukraini...      Factuel  \\\n",
       "1  [international, europe, ukraine, crise-ukraini...      Factuel   \n",
       "\n",
       "   allow_comments  premium            author   \n",
       "0            True    False  Ricardo Uztarroz  \\\n",
       "1            True    False  Ricardo Uztarroz   \n",
       "\n",
       "                                             comment  \n",
       "0  La question qui vaille et qui n'est pas posée...  \n",
       "1  Salandre : les documents dont vous faîtes ét...  "
      ]
     },
     "execution_count": 37,
     "metadata": {},
     "output_type": "execute_result"
    }
   ],
   "source": [
    "new_dataset_pd = pd.read_parquet('lmd_ukraine.parquet')\n",
    "new_dataset_pd.head(2)"
   ]
  },
  {
   "cell_type": "code",
   "execution_count": 38,
   "id": "85ac4c0b-d6d5-4435-9d92-4d530a1616d6",
   "metadata": {
    "tags": []
   },
   "outputs": [
    {
     "data": {
      "text/plain": [
       "article_id           int64\n",
       "url                 object\n",
       "title               object\n",
       "desc                object\n",
       "content             object\n",
       "date                object\n",
       "keywords            object\n",
       "article_type      category\n",
       "allow_comments        bool\n",
       "premium               bool\n",
       "author              object\n",
       "comment             object\n",
       "dtype: object"
      ]
     },
     "execution_count": 38,
     "metadata": {},
     "output_type": "execute_result"
    }
   ],
   "source": [
    "new_dataset_pd.dtypes"
   ]
  },
  {
   "cell_type": "code",
   "execution_count": null,
   "id": "a345922c-1063-4597-9951-bd73b1745e17",
   "metadata": {},
   "outputs": [],
   "source": []
  }
 ],
 "metadata": {
  "kernelspec": {
   "display_name": "Python 3 (ipykernel)",
   "language": "python",
   "name": "python3"
  },
  "language_info": {
   "codemirror_mode": {
    "name": "ipython",
    "version": 3
   },
   "file_extension": ".py",
   "mimetype": "text/x-python",
   "name": "python",
   "nbconvert_exporter": "python",
   "pygments_lexer": "ipython3",
   "version": "3.10.10"
  }
 },
 "nbformat": 4,
 "nbformat_minor": 5
}
